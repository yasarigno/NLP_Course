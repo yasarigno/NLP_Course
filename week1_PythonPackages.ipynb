{
 "cells": [
  {
   "cell_type": "markdown",
   "id": "9ba37477",
   "metadata": {},
   "source": [
    "<h2 style=\"color:darkred;font-size:30px\">Python and Its packages • Week 1</h2>\n",
    "\n",
    "---\n",
    "---\n",
    "---\n",
    "\n",
    "<div style=\"text-align: right\"> <h2 style=\"color:darkred;font-size:15px\">by Fırat YAŞAR</h2></div>\n",
    "\n",
    "_This notebook is created for the course MATH410 Natural Language Processing with Deep Learning in the Master Program in Data Science at Galatasaray University. https://ects.gsu.edu.tr/en/program/index/193_\n",
    "\n",
    "\n",
    "_This work is supported by SFEIR https://www.sfeir.com/fr/_\n",
    "\n",
    "\n",
    "<img src=\"https://github.com/yasarigno/NLP_DeepLearning_Course/blob/main/files/sfeir.png?raw=true\" alt=\"SFEIR Logo\" width=\"256\" height=\"128\">\n",
    "\n",
    "---\n",
    "\n",
    "<h2 style=\"color:darkred;font-size:20px\">Contents</h2>\n",
    "    \n",
    "    0. Install Jupyter Notebook via pip or conda (Anaconda is recommended)\n",
    "    1. Some properties of Jupyter Notebooks\n",
    "    2. Function examples "
   ]
  },
  {
   "cell_type": "markdown",
   "id": "e64936a1",
   "metadata": {},
   "source": [
    "## 1. Some properties of Jupyter Notebooks\n",
    "\n",
    "### Cell types\n",
    "\n",
    "This is a jupyter notebook **cell** of type Markdown (md), that is an .md file in this notebook. Whatever you write inside won't be a part of your Python code.\n",
    "\n",
    "When a cell (as a code or an md) is shown green, it means that you are **editing** it. \n",
    "\n",
    "**If it is blue** then, you can\n",
    "\n",
    "- delete it: ``DD``\n",
    "- create a new cell below: ``B``\n",
    "- move it up or down: the up-down arrows above\n",
    "- execute it: ``command enter``\n",
    "- execute it and create a new cell below: ``shift enter``\n",
    "- turn the cell into an md cell: ``m``\n",
    "\n",
    "### Things that you can do inside a md cell\n",
    "\n",
    "1. Here is a cheat sheet for Markdown. It contains the most common properties of md:\n",
    "\n",
    "https://github.com/adam-p/markdown-here/wiki/Markdown-Cheatsheet\n",
    "\n",
    "2. **IF** LaTex is installed in your computer, you can write math formulas, like that\n",
    "\n",
    "$$ \\int_0^{x} \\sin(x)dx $$\n",
    "\n",
    "3. You can write an html code here, markdown is compatible with it. Images, links even YouTube videos.\n",
    "\n",
    "<a href=\"http://www.youtube.com/watch?feature=player_embedded&v=HW29067qVWk\n",
    "\" target=\"_blank\"><img src=\"http://img.youtube.com/vi/HW29067qVWk/0.jpg\" \n",
    "alt=\"Corey Schafer4s YouTube Channel\" width=\"360\" height=\"240\" border=\"10\" /></a>\n",
    "\n",
    "Voilà... just click on the thumbnail 😊"
   ]
  },
  {
   "cell_type": "markdown",
   "id": "c444943a",
   "metadata": {},
   "source": [
    "## 2. Function examples\n",
    "\n",
    "Here is some examples of functions. \n",
    "\n",
    "### Fibonacci numbers\n",
    "\n",
    "For instance to all Fibonacci numbers smaller than $n$ see the function ``fibonacci``:\n",
    "\n",
    "If you don't know what a Fibonacci number is, read first this [fibonacci numbers WIKI](https://en.wikipedia.org/wiki/Fibonacci_number)."
   ]
  },
  {
   "cell_type": "code",
   "execution_count": 1,
   "id": "ca88b38b",
   "metadata": {},
   "outputs": [],
   "source": [
    "def fibonacci(n):\n",
    "    \"\"\"\n",
    "    Gives all Fibonacci numbers smaller than n\n",
    "    \"\"\"\n",
    "    a, b = 0, 1\n",
    "    while b < n:\n",
    "        print(b, end=' ')\n",
    "        a, b = b, a+b\n",
    "    print()"
   ]
  },
  {
   "cell_type": "code",
   "execution_count": 2,
   "id": "0ee2cb30",
   "metadata": {},
   "outputs": [
    {
     "name": "stdout",
     "output_type": "stream",
     "text": [
      "1 1 2 3 5 8 \n"
     ]
    }
   ],
   "source": [
    "# fibonnacci numbers smaller than 10\n",
    "\n",
    "fibonacci(10)"
   ]
  },
  {
   "cell_type": "code",
   "execution_count": 3,
   "id": "e49981fc",
   "metadata": {},
   "outputs": [],
   "source": [
    "# a recursive way of defining it\n",
    "\n",
    "def n_fibonacci(n):\n",
    "    \"\"\"\n",
    "    Assumes an integer n >= 0\n",
    "    Returns the (n+1)-Fibonacci\n",
    "    \"\"\" \n",
    "    if n == 0 or n == 1:\n",
    "        return 1\n",
    "    else:\n",
    "        return n_fibonacci(n-1) + n_fibonacci(n-2)"
   ]
  },
  {
   "cell_type": "markdown",
   "id": "6bb266d6",
   "metadata": {},
   "source": [
    "for instance the $7^{th}-$Fibonacci number:"
   ]
  },
  {
   "cell_type": "code",
   "execution_count": 4,
   "id": "a9d0b35e",
   "metadata": {
    "scrolled": true
   },
   "outputs": [
    {
     "data": {
      "text/plain": [
       "13"
      ]
     },
     "execution_count": 4,
     "metadata": {},
     "output_type": "execute_result"
    }
   ],
   "source": [
    "n_fibonacci(6)"
   ]
  },
  {
   "cell_type": "markdown",
   "id": "2c44fc00",
   "metadata": {},
   "source": [
    "### Check if a number is prime\n",
    "\n",
    "There are better ways of writing a function. Here is an example.\n",
    "\n",
    "In the following cells you will see that the function ``checkPrimeBetter`` is much more faster than ``checkPrime``function.\n",
    "\n",
    "If you start with ``%%time`` in your code cell, it will show you the execution time."
   ]
  },
  {
   "cell_type": "code",
   "execution_count": 5,
   "id": "cf3c56ef",
   "metadata": {},
   "outputs": [],
   "source": [
    "def checkPrime(n):\n",
    "    \"\"\" Takes a positive integer and verifies if it is prime. \n",
    "        The result is a boolean.else\n",
    "    \"\"\"\n",
    "    for i in range(2, n):\n",
    "        if n % i == 0:\n",
    "            return False\n",
    "    return True"
   ]
  },
  {
   "cell_type": "markdown",
   "id": "b3259956",
   "metadata": {},
   "source": [
    "The number \n",
    "$$ 2^{31} - 1 $$ is a Mersenne prime. See [Mersenne primes](https://en.wikipedia.org/wiki/Mersenne_prime)\n",
    "\n",
    "!!! The code below takes 3-5 minutes to execute.\n",
    "\n",
    "Note that you can't execute cells at the same time."
   ]
  },
  {
   "cell_type": "code",
   "execution_count": 6,
   "id": "b90f2979",
   "metadata": {
    "scrolled": true
   },
   "outputs": [
    {
     "name": "stdout",
     "output_type": "stream",
     "text": [
      "CPU times: user 4min 8s, sys: 1.66 s, total: 4min 10s\n",
      "Wall time: 4min 17s\n"
     ]
    },
    {
     "data": {
      "text/plain": [
       "True"
      ]
     },
     "execution_count": 6,
     "metadata": {},
     "output_type": "execute_result"
    }
   ],
   "source": [
    "%%time\n",
    "\n",
    "checkPrime(2**31 - 1)"
   ]
  },
  {
   "cell_type": "code",
   "execution_count": 7,
   "id": "912f7fd5",
   "metadata": {},
   "outputs": [],
   "source": [
    "# The better function to check if a number is prime verifies less number of cases. \n",
    "\n",
    "from math import sqrt # we need sqrt function\n",
    "\n",
    "def checkPrimeBetter (n):\n",
    "    \"\"\" Takes a positive integer and verifies if it is prime. \n",
    "        The result is a boolean.\n",
    "    \"\"\"\n",
    "    estimate_n = int(sqrt(n)) + 1\n",
    "    for i in range(2, estimate_n):\n",
    "        if n % i == 0:\n",
    "            return False\n",
    "    if n == 1:\n",
    "        return False\n",
    "    return True"
   ]
  },
  {
   "cell_type": "code",
   "execution_count": 8,
   "id": "47ea10ab",
   "metadata": {},
   "outputs": [
    {
     "name": "stdout",
     "output_type": "stream",
     "text": [
      "CPU times: user 7.14 ms, sys: 355 µs, total: 7.49 ms\n",
      "Wall time: 8.44 ms\n"
     ]
    },
    {
     "data": {
      "text/plain": [
       "True"
      ]
     },
     "execution_count": 8,
     "metadata": {},
     "output_type": "execute_result"
    }
   ],
   "source": [
    "%%time\n",
    "\n",
    "checkPrimeBetter(2**31 - 1)"
   ]
  },
  {
   "cell_type": "markdown",
   "id": "ebb213a1",
   "metadata": {},
   "source": [
    "<h2 style=\"color:darkred;font-size:14px\">It is much more faster.</h2>"
   ]
  },
  {
   "cell_type": "markdown",
   "id": "3f268716",
   "metadata": {},
   "source": [
    "### Palindromes\n",
    "\n",
    "A **palindrome** is a word, number, phrase, or other sequence of symbols that reads the same backwards as forwards, such as the words madam or racecar.\n",
    "\n",
    "![alt text](https://upload.wikimedia.org/wikipedia/commons/1/1a/Ambigram_palindrome_ΝΙΨΟΝΑΝΟΜΗΜΑΤΑΜΗΜΟΝΑΝΟΨΙΝ_%28Wash_your_sins%2C_not_only_your_face%2C_in_Greek%29.jpg \"A 4th-century Greek palindrome\")\n",
    "\n",
    "\n"
   ]
  },
  {
   "cell_type": "code",
   "execution_count": 9,
   "id": "a95792fc",
   "metadata": {},
   "outputs": [],
   "source": [
    "def checkPalindrom (s):\n",
    "    s = s.lower() # if needed.\n",
    "    if len(s) <= 1:\n",
    "        return True\n",
    "    else:\n",
    "        answer = (s[0] == s[-1] and checkPalindrom(s[1:-1]))\n",
    "        return answer\n",
    "    \n",
    "def palindrom (s):\n",
    "    if checkPalindrom (s):\n",
    "        return print(\"The word \" + s + \" is a Palindrom.\")\n",
    "    return print(\"The word \" + s + \" is not a Palindrom.\")"
   ]
  },
  {
   "cell_type": "markdown",
   "id": "e8348947",
   "metadata": {},
   "source": [
    "#### Let us check which words are palindromes in a given list"
   ]
  },
  {
   "cell_type": "code",
   "execution_count": 10,
   "id": "8e34cc37",
   "metadata": {
    "code_folding": []
   },
   "outputs": [],
   "source": [
    "# a list of words to check\n",
    "\n",
    "a_list_of_words_to_check = ['asdf', 'bob', 'deded', 'x', 'paris', 'fououf', 'Ey edip adanada pide ye']"
   ]
  },
  {
   "cell_type": "code",
   "execution_count": 11,
   "id": "5d3d28d5",
   "metadata": {
    "scrolled": true
   },
   "outputs": [
    {
     "name": "stdout",
     "output_type": "stream",
     "text": [
      "The word asdf is not a Palindrom.\n",
      "The word bob is a Palindrom.\n",
      "The word deded is a Palindrom.\n",
      "The word x is a Palindrom.\n",
      "The word paris is not a Palindrom.\n",
      "The word fououf is not a Palindrom.\n",
      "The word Ey edip adanada pide ye is a Palindrom.\n"
     ]
    }
   ],
   "source": [
    "for item in a_list_of_words_to_check:\n",
    "    palindrom(item)"
   ]
  },
  {
   "cell_type": "markdown",
   "id": "0ec62d1c",
   "metadata": {},
   "source": [
    "### Loops, while statements are very important\n",
    "\n",
    "You can find examples on the ressource on the slide file or on google...\n",
    "\n",
    "Here is a ``while`` example"
   ]
  },
  {
   "cell_type": "code",
   "execution_count": 12,
   "id": "82db5af6",
   "metadata": {},
   "outputs": [
    {
     "name": "stdout",
     "output_type": "stream",
     "text": [
      "132 is divisible by 11 and 12\n"
     ]
    }
   ],
   "source": [
    "#Find a positive integer that is divisible by both 11 and 12 \n",
    "\n",
    "x=1\n",
    "while True:\n",
    "    if x%11 == 0 and x%12 == 0:\n",
    "        break\n",
    "    x = x+1\n",
    "print(x, 'is divisible by 11 and 12')"
   ]
  },
  {
   "cell_type": "markdown",
   "id": "80598766",
   "metadata": {},
   "source": [
    "## Passwords"
   ]
  },
  {
   "cell_type": "code",
   "execution_count": 13,
   "id": "97903e17",
   "metadata": {},
   "outputs": [
    {
     "name": "stdout",
     "output_type": "stream",
     "text": [
      "The value of n is 0\n",
      "The value of n is 1\n",
      "The value of n is 2\n",
      "The value of n is 3\n",
      "The value of n is 4\n",
      "The value of n is 5\n",
      "The value of n is 6\n",
      "The value of n is 7\n",
      "The value of n is 8\n",
      "The value of n is 9\n"
     ]
    }
   ],
   "source": [
    "n=0\n",
    "while n < 10:\n",
    "    print(\"The value of n is \" + str(n))\n",
    "    n = n + 1 "
   ]
  },
  {
   "cell_type": "code",
   "execution_count": 14,
   "id": "041aebcf",
   "metadata": {},
   "outputs": [
    {
     "name": "stdout",
     "output_type": "stream",
     "text": [
      "Enter your password : 1234\n",
      "Password is correct\n"
     ]
    }
   ],
   "source": [
    "password = \"\"\n",
    "\n",
    "while not password == \"1234\":\n",
    "    password = input(\"Enter your password : \")\n",
    "    \n",
    "print(\"Password is correct\")"
   ]
  }
 ],
 "metadata": {
  "kernelspec": {
   "display_name": "Python 3 (ipykernel)",
   "language": "python",
   "name": "python3"
  },
  "language_info": {
   "codemirror_mode": {
    "name": "ipython",
    "version": 3
   },
   "file_extension": ".py",
   "mimetype": "text/x-python",
   "name": "python",
   "nbconvert_exporter": "python",
   "pygments_lexer": "ipython3",
   "version": "3.9.7"
  }
 },
 "nbformat": 4,
 "nbformat_minor": 5
}
