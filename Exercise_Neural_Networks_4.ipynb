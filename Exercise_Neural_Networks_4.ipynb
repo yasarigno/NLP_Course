{
  "nbformat": 4,
  "nbformat_minor": 0,
  "metadata": {
    "colab": {
      "provenance": [],
      "mount_file_id": "1AqMgvg_LtBdu8Ltb2L_9wUx1V8QZvvTq",
      "authorship_tag": "ABX9TyPP0lfufiU77hR7uk9QX4jf",
      "include_colab_link": true
    },
    "kernelspec": {
      "name": "python3",
      "display_name": "Python 3"
    },
    "language_info": {
      "name": "python"
    }
  },
  "cells": [
    {
      "cell_type": "markdown",
      "metadata": {
        "id": "view-in-github",
        "colab_type": "text"
      },
      "source": [
        "<a href=\"https://colab.research.google.com/github/yasarigno/NLP_DeepLearning_Course/blob/main/Exercise_Neural_Networks_4.ipynb\" target=\"_parent\"><img src=\"https://colab.research.google.com/assets/colab-badge.svg\" alt=\"Open In Colab\"/></a>"
      ]
    },
    {
      "cell_type": "markdown",
      "source": [
        "# 1. Import the data from Google Drive"
      ],
      "metadata": {
        "id": "ry9n2SFF6cvi"
      }
    },
    {
      "cell_type": "code",
      "execution_count": 5,
      "metadata": {
        "id": "6joLSRXZhk1l"
      },
      "outputs": [],
      "source": [
        "import pandas as pd\n",
        "import matplotlib.pyplot as plt\n",
        "\n",
        "%matplotlib inline\n",
        "\n",
        "from tensorflow.keras.layers import Dense\n",
        "from tensorflow.keras.optimizers import Adam\n",
        "from tensorflow.keras.models import Sequential"
      ]
    },
    {
      "cell_type": "code",
      "source": [
        "import random\n",
        "random.seed(2)\n",
        "\n",
        "import tensorflow as tf\n",
        "tf.random.set_seed(2)\n",
        "\n",
        "import numpy as np\n",
        "np.random.seed(2)"
      ],
      "metadata": {
        "id": "y0Ew4FmSiaQC"
      },
      "execution_count": 6,
      "outputs": []
    },
    {
      "cell_type": "code",
      "source": [
        "Local = False"
      ],
      "metadata": {
        "id": "Fk0ATv7njPLn"
      },
      "execution_count": 7,
      "outputs": []
    },
    {
      "cell_type": "code",
      "source": [
        "if Local:\n",
        "    traffic_data = pd.read_csv('datasets/traffic_data.csv', index_col=0)\n",
        "else:\n",
        "    traffic_data = pd.read_csv(\"/content/drive/MyDrive/Shared Datasets/Traffic/traffic_data.csv\", index_col=0)"
      ],
      "metadata": {
        "id": "GctBDj15idIu"
      },
      "execution_count": 8,
      "outputs": []
    },
    {
      "cell_type": "markdown",
      "source": [
        "The last 3 columns specify the pizza type:\n",
        "\n",
        "Vegan\n",
        "Vegetarian\n",
        "Meat"
      ],
      "metadata": {
        "id": "7gjMWcewikmt"
      }
    },
    {
      "cell_type": "code",
      "source": [
        "traffic_data.head()"
      ],
      "metadata": {
        "colab": {
          "base_uri": "https://localhost:8080/",
          "height": 206
        },
        "id": "HUpIR1_sifjB",
        "outputId": "a59095ce-9397-48f6-f2a3-be6889712328"
      },
      "execution_count": 9,
      "outputs": [
        {
          "output_type": "execute_result",
          "data": {
            "text/plain": [
              "      day  minute  hour  second     type\n",
              "0  Monday       0     8      14  traffic\n",
              "1  Monday       0     8      28  traffic\n",
              "2  Monday       0     8      34  traffic\n",
              "3  Monday       0     8      45  traffic\n",
              "4  Monday       0     8      53  traffic"
            ],
            "text/html": [
              "\n",
              "  <div id=\"df-92fd587d-850e-4adc-bda5-7f3d5e5defab\">\n",
              "    <div class=\"colab-df-container\">\n",
              "      <div>\n",
              "<style scoped>\n",
              "    .dataframe tbody tr th:only-of-type {\n",
              "        vertical-align: middle;\n",
              "    }\n",
              "\n",
              "    .dataframe tbody tr th {\n",
              "        vertical-align: top;\n",
              "    }\n",
              "\n",
              "    .dataframe thead th {\n",
              "        text-align: right;\n",
              "    }\n",
              "</style>\n",
              "<table border=\"1\" class=\"dataframe\">\n",
              "  <thead>\n",
              "    <tr style=\"text-align: right;\">\n",
              "      <th></th>\n",
              "      <th>day</th>\n",
              "      <th>minute</th>\n",
              "      <th>hour</th>\n",
              "      <th>second</th>\n",
              "      <th>type</th>\n",
              "    </tr>\n",
              "  </thead>\n",
              "  <tbody>\n",
              "    <tr>\n",
              "      <th>0</th>\n",
              "      <td>Monday</td>\n",
              "      <td>0</td>\n",
              "      <td>8</td>\n",
              "      <td>14</td>\n",
              "      <td>traffic</td>\n",
              "    </tr>\n",
              "    <tr>\n",
              "      <th>1</th>\n",
              "      <td>Monday</td>\n",
              "      <td>0</td>\n",
              "      <td>8</td>\n",
              "      <td>28</td>\n",
              "      <td>traffic</td>\n",
              "    </tr>\n",
              "    <tr>\n",
              "      <th>2</th>\n",
              "      <td>Monday</td>\n",
              "      <td>0</td>\n",
              "      <td>8</td>\n",
              "      <td>34</td>\n",
              "      <td>traffic</td>\n",
              "    </tr>\n",
              "    <tr>\n",
              "      <th>3</th>\n",
              "      <td>Monday</td>\n",
              "      <td>0</td>\n",
              "      <td>8</td>\n",
              "      <td>45</td>\n",
              "      <td>traffic</td>\n",
              "    </tr>\n",
              "    <tr>\n",
              "      <th>4</th>\n",
              "      <td>Monday</td>\n",
              "      <td>0</td>\n",
              "      <td>8</td>\n",
              "      <td>53</td>\n",
              "      <td>traffic</td>\n",
              "    </tr>\n",
              "  </tbody>\n",
              "</table>\n",
              "</div>\n",
              "      <button class=\"colab-df-convert\" onclick=\"convertToInteractive('df-92fd587d-850e-4adc-bda5-7f3d5e5defab')\"\n",
              "              title=\"Convert this dataframe to an interactive table.\"\n",
              "              style=\"display:none;\">\n",
              "        \n",
              "  <svg xmlns=\"http://www.w3.org/2000/svg\" height=\"24px\"viewBox=\"0 0 24 24\"\n",
              "       width=\"24px\">\n",
              "    <path d=\"M0 0h24v24H0V0z\" fill=\"none\"/>\n",
              "    <path d=\"M18.56 5.44l.94 2.06.94-2.06 2.06-.94-2.06-.94-.94-2.06-.94 2.06-2.06.94zm-11 1L8.5 8.5l.94-2.06 2.06-.94-2.06-.94L8.5 2.5l-.94 2.06-2.06.94zm10 10l.94 2.06.94-2.06 2.06-.94-2.06-.94-.94-2.06-.94 2.06-2.06.94z\"/><path d=\"M17.41 7.96l-1.37-1.37c-.4-.4-.92-.59-1.43-.59-.52 0-1.04.2-1.43.59L10.3 9.45l-7.72 7.72c-.78.78-.78 2.05 0 2.83L4 21.41c.39.39.9.59 1.41.59.51 0 1.02-.2 1.41-.59l7.78-7.78 2.81-2.81c.8-.78.8-2.07 0-2.86zM5.41 20L4 18.59l7.72-7.72 1.47 1.35L5.41 20z\"/>\n",
              "  </svg>\n",
              "      </button>\n",
              "      \n",
              "  <style>\n",
              "    .colab-df-container {\n",
              "      display:flex;\n",
              "      flex-wrap:wrap;\n",
              "      gap: 12px;\n",
              "    }\n",
              "\n",
              "    .colab-df-convert {\n",
              "      background-color: #E8F0FE;\n",
              "      border: none;\n",
              "      border-radius: 50%;\n",
              "      cursor: pointer;\n",
              "      display: none;\n",
              "      fill: #1967D2;\n",
              "      height: 32px;\n",
              "      padding: 0 0 0 0;\n",
              "      width: 32px;\n",
              "    }\n",
              "\n",
              "    .colab-df-convert:hover {\n",
              "      background-color: #E2EBFA;\n",
              "      box-shadow: 0px 1px 2px rgba(60, 64, 67, 0.3), 0px 1px 3px 1px rgba(60, 64, 67, 0.15);\n",
              "      fill: #174EA6;\n",
              "    }\n",
              "\n",
              "    [theme=dark] .colab-df-convert {\n",
              "      background-color: #3B4455;\n",
              "      fill: #D2E3FC;\n",
              "    }\n",
              "\n",
              "    [theme=dark] .colab-df-convert:hover {\n",
              "      background-color: #434B5C;\n",
              "      box-shadow: 0px 1px 3px 1px rgba(0, 0, 0, 0.15);\n",
              "      filter: drop-shadow(0px 1px 2px rgba(0, 0, 0, 0.3));\n",
              "      fill: #FFFFFF;\n",
              "    }\n",
              "  </style>\n",
              "\n",
              "      <script>\n",
              "        const buttonEl =\n",
              "          document.querySelector('#df-92fd587d-850e-4adc-bda5-7f3d5e5defab button.colab-df-convert');\n",
              "        buttonEl.style.display =\n",
              "          google.colab.kernel.accessAllowed ? 'block' : 'none';\n",
              "\n",
              "        async function convertToInteractive(key) {\n",
              "          const element = document.querySelector('#df-92fd587d-850e-4adc-bda5-7f3d5e5defab');\n",
              "          const dataTable =\n",
              "            await google.colab.kernel.invokeFunction('convertToInteractive',\n",
              "                                                     [key], {});\n",
              "          if (!dataTable) return;\n",
              "\n",
              "          const docLinkHtml = 'Like what you see? Visit the ' +\n",
              "            '<a target=\"_blank\" href=https://colab.research.google.com/notebooks/data_table.ipynb>data table notebook</a>'\n",
              "            + ' to learn more about interactive tables.';\n",
              "          element.innerHTML = '';\n",
              "          dataTable['output_type'] = 'display_data';\n",
              "          await google.colab.output.renderOutput(dataTable, element);\n",
              "          const docLink = document.createElement('div');\n",
              "          docLink.innerHTML = docLinkHtml;\n",
              "          element.appendChild(docLink);\n",
              "        }\n",
              "      </script>\n",
              "    </div>\n",
              "  </div>\n",
              "  "
            ]
          },
          "metadata": {},
          "execution_count": 9
        }
      ]
    },
    {
      "cell_type": "markdown",
      "source": [
        "# 2. EDA"
      ],
      "metadata": {
        "id": "St0cGrBD6ZU-"
      }
    },
    {
      "cell_type": "code",
      "source": [
        "traffic_data.shape"
      ],
      "metadata": {
        "colab": {
          "base_uri": "https://localhost:8080/"
        },
        "id": "LMLG8Xl2-E7i",
        "outputId": "8ab30418-261d-42e5-b8d2-3a9a589b04e6"
      },
      "execution_count": 10,
      "outputs": [
        {
          "output_type": "execute_result",
          "data": {
            "text/plain": [
              "(85638, 5)"
            ]
          },
          "metadata": {},
          "execution_count": 10
        }
      ]
    },
    {
      "cell_type": "code",
      "source": [
        "traffic_data['type'].value_counts()"
      ],
      "metadata": {
        "id": "bPCSE5L-inXy",
        "colab": {
          "base_uri": "https://localhost:8080/"
        },
        "outputId": "3a8c7efc-8281-4918-f1c6-3b946f35e453"
      },
      "execution_count": 11,
      "outputs": [
        {
          "output_type": "execute_result",
          "data": {
            "text/plain": [
              "no_traffic    50769\n",
              "traffic       34869\n",
              "Name: type, dtype: int64"
            ]
          },
          "metadata": {},
          "execution_count": 11
        }
      ]
    },
    {
      "cell_type": "markdown",
      "source": [
        "Notice that the dataset is imbalanced."
      ],
      "metadata": {
        "id": "UFeRxSaQ6S-y"
      }
    },
    {
      "cell_type": "code",
      "source": [
        "traffic_data['day'].value_counts()"
      ],
      "metadata": {
        "colab": {
          "base_uri": "https://localhost:8080/"
        },
        "id": "zI65c8sWipQ_",
        "outputId": "eacaf95c-c4ea-4572-ba1e-cb0f3a12020f"
      },
      "execution_count": 12,
      "outputs": [
        {
          "output_type": "execute_result",
          "data": {
            "text/plain": [
              "Sunday       12278\n",
              "Saturday     12251\n",
              "Thursday     12241\n",
              "Wednesday    12237\n",
              "Tuesday      12217\n",
              "Monday       12212\n",
              "Friday       12202\n",
              "Name: day, dtype: int64"
            ]
          },
          "metadata": {},
          "execution_count": 12
        }
      ]
    },
    {
      "cell_type": "markdown",
      "source": [
        "Group the types by day"
      ],
      "metadata": {
        "id": "5NLXBrHj6yBc"
      }
    },
    {
      "cell_type": "code",
      "source": [
        "traffic_data.groupby('day')['type'].value_counts()"
      ],
      "metadata": {
        "colab": {
          "base_uri": "https://localhost:8080/"
        },
        "id": "ICwbwqwIirVs",
        "outputId": "72a4368f-ba1d-42b5-bd3b-eaff1e46052f"
      },
      "execution_count": 13,
      "outputs": [
        {
          "output_type": "execute_result",
          "data": {
            "text/plain": [
              "day        type      \n",
              "Friday     traffic        6989\n",
              "           no_traffic     5213\n",
              "Monday     traffic        6972\n",
              "           no_traffic     5240\n",
              "Saturday   no_traffic    12251\n",
              "Sunday     no_traffic    12278\n",
              "Thursday   traffic        6965\n",
              "           no_traffic     5276\n",
              "Tuesday    traffic        6990\n",
              "           no_traffic     5227\n",
              "Wednesday  traffic        6953\n",
              "           no_traffic     5284\n",
              "Name: type, dtype: int64"
            ]
          },
          "metadata": {},
          "execution_count": 13
        }
      ]
    },
    {
      "cell_type": "code",
      "source": [
        "traffic_data['hour'].value_counts()"
      ],
      "metadata": {
        "colab": {
          "base_uri": "https://localhost:8080/"
        },
        "id": "NRP8-w4diuKj",
        "outputId": "6e4bbe71-eca7-42f5-a36b-ec555a24db47"
      },
      "execution_count": 14,
      "outputs": [
        {
          "output_type": "execute_result",
          "data": {
            "text/plain": [
              "8     6211\n",
              "16    6204\n",
              "20    6195\n",
              "18    6188\n",
              "14    6180\n",
              "10    6156\n",
              "12    6147\n",
              "15    6110\n",
              "17    6076\n",
              "13    6052\n",
              "11    6046\n",
              "21    6046\n",
              "19    6036\n",
              "9     5988\n",
              "22       3\n",
              "Name: hour, dtype: int64"
            ]
          },
          "metadata": {},
          "execution_count": 14
        }
      ]
    },
    {
      "cell_type": "markdown",
      "source": [
        "Hours start at 8 and stop at 22. \n",
        "22 has very little data."
      ],
      "metadata": {
        "id": "rWye06mA66x3"
      }
    },
    {
      "cell_type": "code",
      "source": [
        "traffic_data['c_type'] = traffic_data['type'].apply(lambda x: 1 if x == 'traffic' else 0)"
      ],
      "metadata": {
        "id": "8BZSxHeEiu4V"
      },
      "execution_count": 15,
      "outputs": []
    },
    {
      "cell_type": "markdown",
      "source": [
        "Visualisation by scatter plot"
      ],
      "metadata": {
        "id": "BSYPJ0Bw7IRR"
      }
    },
    {
      "cell_type": "code",
      "source": [
        "import matplotlib.pyplot as plt\n",
        "from matplotlib.pyplot import colorbar, figure"
      ],
      "metadata": {
        "id": "BlFXVqUzi0SX"
      },
      "execution_count": 16,
      "outputs": []
    },
    {
      "cell_type": "code",
      "source": [
        "figure(num=None, figsize=(12, 10))\n",
        "plt.scatter(\n",
        "    traffic_data['day'], \n",
        "    traffic_data['hour'], \n",
        "    c=traffic_data['c_type'], \n",
        "    cmap='jet',\n",
        ")\n",
        "cbar = colorbar()\n"
      ],
      "metadata": {
        "id": "UalHJyoKi02f",
        "colab": {
          "base_uri": "https://localhost:8080/",
          "height": 596
        },
        "outputId": "f9e00b25-b7b2-432f-c754-6ea92ae1aad7"
      },
      "execution_count": 17,
      "outputs": [
        {
          "output_type": "display_data",
          "data": {
            "text/plain": [
              "<Figure size 864x720 with 2 Axes>"
            ],
            "image/png": "[encoded data removed]"
          },
          "metadata": {
            "needs_background": "light"
          }
        }
      ]
    },
    {
      "cell_type": "markdown",
      "source": [
        "there is no traffic on Saturdays or Sundays. It seems to be mostly around some key hours, such as 8-10, 12-13, and 16-20."
      ],
      "metadata": {
        "id": "TgwzQVYb7QyQ"
      }
    },
    {
      "cell_type": "code",
      "source": [
        "traffic_data = traffic_data.join(pd.get_dummies(traffic_data['day']))"
      ],
      "metadata": {
        "id": "G-LU1Uv3i61W"
      },
      "execution_count": 18,
      "outputs": []
    },
    {
      "cell_type": "code",
      "source": [
        "traffic_data"
      ],
      "metadata": {
        "colab": {
          "base_uri": "https://localhost:8080/",
          "height": 424
        },
        "id": "PQAjbDTP7XhJ",
        "outputId": "c08757a1-5404-4cff-accb-c98ac7742f4b"
      },
      "execution_count": 25,
      "outputs": [
        {
          "output_type": "execute_result",
          "data": {
            "text/plain": [
              "          day  minute  hour  second        type  c_type  Friday  Monday  \\\n",
              "0      Monday       0     8      14     traffic       1       0       1   \n",
              "1      Monday       0     8      28     traffic       1       0       1   \n",
              "2      Monday       0     8      34     traffic       1       0       1   \n",
              "3      Monday       0     8      45     traffic       1       0       1   \n",
              "4      Monday       0     8      53     traffic       1       0       1   \n",
              "...       ...     ...   ...     ...         ...     ...     ...     ...   \n",
              "98042  Sunday      59    17      51  no_traffic       0       0       0   \n",
              "98043  Sunday       0    18       0  no_traffic       0       0       0   \n",
              "98044  Sunday       0    16      24  no_traffic       0       0       0   \n",
              "98045  Sunday       0    16      35  no_traffic       0       0       0   \n",
              "98047  Sunday       1    16      28  no_traffic       0       0       0   \n",
              "\n",
              "       Saturday  Sunday  Thursday  Tuesday  Wednesday  \n",
              "0             0       0         0        0          0  \n",
              "1             0       0         0        0          0  \n",
              "2             0       0         0        0          0  \n",
              "3             0       0         0        0          0  \n",
              "4             0       0         0        0          0  \n",
              "...         ...     ...       ...      ...        ...  \n",
              "98042         0       1         0        0          0  \n",
              "98043         0       1         0        0          0  \n",
              "98044         0       1         0        0          0  \n",
              "98045         0       1         0        0          0  \n",
              "98047         0       1         0        0          0  \n",
              "\n",
              "[85638 rows x 13 columns]"
            ],
            "text/html": [
              "\n",
              "  <div id=\"df-715cdedb-ae26-4e0f-bebf-6252f55f6d3c\">\n",
              "    <div class=\"colab-df-container\">\n",
              "      <div>\n",
              "<style scoped>\n",
              "    .dataframe tbody tr th:only-of-type {\n",
              "        vertical-align: middle;\n",
              "    }\n",
              "\n",
              "    .dataframe tbody tr th {\n",
              "        vertical-align: top;\n",
              "    }\n",
              "\n",
              "    .dataframe thead th {\n",
              "        text-align: right;\n",
              "    }\n",
              "</style>\n",
              "<table border=\"1\" class=\"dataframe\">\n",
              "  <thead>\n",
              "    <tr style=\"text-align: right;\">\n",
              "      <th></th>\n",
              "      <th>day</th>\n",
              "      <th>minute</th>\n",
              "      <th>hour</th>\n",
              "      <th>second</th>\n",
              "      <th>type</th>\n",
              "      <th>c_type</th>\n",
              "      <th>Friday</th>\n",
              "      <th>Monday</th>\n",
              "      <th>Saturday</th>\n",
              "      <th>Sunday</th>\n",
              "      <th>Thursday</th>\n",
              "      <th>Tuesday</th>\n",
              "      <th>Wednesday</th>\n",
              "    </tr>\n",
              "  </thead>\n",
              "  <tbody>\n",
              "    <tr>\n",
              "      <th>0</th>\n",
              "      <td>Monday</td>\n",
              "      <td>0</td>\n",
              "      <td>8</td>\n",
              "      <td>14</td>\n",
              "      <td>traffic</td>\n",
              "      <td>1</td>\n",
              "      <td>0</td>\n",
              "      <td>1</td>\n",
              "      <td>0</td>\n",
              "      <td>0</td>\n",
              "      <td>0</td>\n",
              "      <td>0</td>\n",
              "      <td>0</td>\n",
              "    </tr>\n",
              "    <tr>\n",
              "      <th>1</th>\n",
              "      <td>Monday</td>\n",
              "      <td>0</td>\n",
              "      <td>8</td>\n",
              "      <td>28</td>\n",
              "      <td>traffic</td>\n",
              "      <td>1</td>\n",
              "      <td>0</td>\n",
              "      <td>1</td>\n",
              "      <td>0</td>\n",
              "      <td>0</td>\n",
              "      <td>0</td>\n",
              "      <td>0</td>\n",
              "      <td>0</td>\n",
              "    </tr>\n",
              "    <tr>\n",
              "      <th>2</th>\n",
              "      <td>Monday</td>\n",
              "      <td>0</td>\n",
              "      <td>8</td>\n",
              "      <td>34</td>\n",
              "      <td>traffic</td>\n",
              "      <td>1</td>\n",
              "      <td>0</td>\n",
              "      <td>1</td>\n",
              "      <td>0</td>\n",
              "      <td>0</td>\n",
              "      <td>0</td>\n",
              "      <td>0</td>\n",
              "      <td>0</td>\n",
              "    </tr>\n",
              "    <tr>\n",
              "      <th>3</th>\n",
              "      <td>Monday</td>\n",
              "      <td>0</td>\n",
              "      <td>8</td>\n",
              "      <td>45</td>\n",
              "      <td>traffic</td>\n",
              "      <td>1</td>\n",
              "      <td>0</td>\n",
              "      <td>1</td>\n",
              "      <td>0</td>\n",
              "      <td>0</td>\n",
              "      <td>0</td>\n",
              "      <td>0</td>\n",
              "      <td>0</td>\n",
              "    </tr>\n",
              "    <tr>\n",
              "      <th>4</th>\n",
              "      <td>Monday</td>\n",
              "      <td>0</td>\n",
              "      <td>8</td>\n",
              "      <td>53</td>\n",
              "      <td>traffic</td>\n",
              "      <td>1</td>\n",
              "      <td>0</td>\n",
              "      <td>1</td>\n",
              "      <td>0</td>\n",
              "      <td>0</td>\n",
              "      <td>0</td>\n",
              "      <td>0</td>\n",
              "      <td>0</td>\n",
              "    </tr>\n",
              "    <tr>\n",
              "      <th>...</th>\n",
              "      <td>...</td>\n",
              "      <td>...</td>\n",
              "      <td>...</td>\n",
              "      <td>...</td>\n",
              "      <td>...</td>\n",
              "      <td>...</td>\n",
              "      <td>...</td>\n",
              "      <td>...</td>\n",
              "      <td>...</td>\n",
              "      <td>...</td>\n",
              "      <td>...</td>\n",
              "      <td>...</td>\n",
              "      <td>...</td>\n",
              "    </tr>\n",
              "    <tr>\n",
              "      <th>98042</th>\n",
              "      <td>Sunday</td>\n",
              "      <td>59</td>\n",
              "      <td>17</td>\n",
              "      <td>51</td>\n",
              "      <td>no_traffic</td>\n",
              "      <td>0</td>\n",
              "      <td>0</td>\n",
              "      <td>0</td>\n",
              "      <td>0</td>\n",
              "      <td>1</td>\n",
              "      <td>0</td>\n",
              "      <td>0</td>\n",
              "      <td>0</td>\n",
              "    </tr>\n",
              "    <tr>\n",
              "      <th>98043</th>\n",
              "      <td>Sunday</td>\n",
              "      <td>0</td>\n",
              "      <td>18</td>\n",
              "      <td>0</td>\n",
              "      <td>no_traffic</td>\n",
              "      <td>0</td>\n",
              "      <td>0</td>\n",
              "      <td>0</td>\n",
              "      <td>0</td>\n",
              "      <td>1</td>\n",
              "      <td>0</td>\n",
              "      <td>0</td>\n",
              "      <td>0</td>\n",
              "    </tr>\n",
              "    <tr>\n",
              "      <th>98044</th>\n",
              "      <td>Sunday</td>\n",
              "      <td>0</td>\n",
              "      <td>16</td>\n",
              "      <td>24</td>\n",
              "      <td>no_traffic</td>\n",
              "      <td>0</td>\n",
              "      <td>0</td>\n",
              "      <td>0</td>\n",
              "      <td>0</td>\n",
              "      <td>1</td>\n",
              "      <td>0</td>\n",
              "      <td>0</td>\n",
              "      <td>0</td>\n",
              "    </tr>\n",
              "    <tr>\n",
              "      <th>98045</th>\n",
              "      <td>Sunday</td>\n",
              "      <td>0</td>\n",
              "      <td>16</td>\n",
              "      <td>35</td>\n",
              "      <td>no_traffic</td>\n",
              "      <td>0</td>\n",
              "      <td>0</td>\n",
              "      <td>0</td>\n",
              "      <td>0</td>\n",
              "      <td>1</td>\n",
              "      <td>0</td>\n",
              "      <td>0</td>\n",
              "      <td>0</td>\n",
              "    </tr>\n",
              "    <tr>\n",
              "      <th>98047</th>\n",
              "      <td>Sunday</td>\n",
              "      <td>1</td>\n",
              "      <td>16</td>\n",
              "      <td>28</td>\n",
              "      <td>no_traffic</td>\n",
              "      <td>0</td>\n",
              "      <td>0</td>\n",
              "      <td>0</td>\n",
              "      <td>0</td>\n",
              "      <td>1</td>\n",
              "      <td>0</td>\n",
              "      <td>0</td>\n",
              "      <td>0</td>\n",
              "    </tr>\n",
              "  </tbody>\n",
              "</table>\n",
              "<p>85638 rows × 13 columns</p>\n",
              "</div>\n",
              "      <button class=\"colab-df-convert\" onclick=\"convertToInteractive('df-715cdedb-ae26-4e0f-bebf-6252f55f6d3c')\"\n",
              "              title=\"Convert this dataframe to an interactive table.\"\n",
              "              style=\"display:none;\">\n",
              "        \n",
              "  <svg xmlns=\"http://www.w3.org/2000/svg\" height=\"24px\"viewBox=\"0 0 24 24\"\n",
              "       width=\"24px\">\n",
              "    <path d=\"M0 0h24v24H0V0z\" fill=\"none\"/>\n",
              "    <path d=\"M18.56 5.44l.94 2.06.94-2.06 2.06-.94-2.06-.94-.94-2.06-.94 2.06-2.06.94zm-11 1L8.5 8.5l.94-2.06 2.06-.94-2.06-.94L8.5 2.5l-.94 2.06-2.06.94zm10 10l.94 2.06.94-2.06 2.06-.94-2.06-.94-.94-2.06-.94 2.06-2.06.94z\"/><path d=\"M17.41 7.96l-1.37-1.37c-.4-.4-.92-.59-1.43-.59-.52 0-1.04.2-1.43.59L10.3 9.45l-7.72 7.72c-.78.78-.78 2.05 0 2.83L4 21.41c.39.39.9.59 1.41.59.51 0 1.02-.2 1.41-.59l7.78-7.78 2.81-2.81c.8-.78.8-2.07 0-2.86zM5.41 20L4 18.59l7.72-7.72 1.47 1.35L5.41 20z\"/>\n",
              "  </svg>\n",
              "      </button>\n",
              "      \n",
              "  <style>\n",
              "    .colab-df-container {\n",
              "      display:flex;\n",
              "      flex-wrap:wrap;\n",
              "      gap: 12px;\n",
              "    }\n",
              "\n",
              "    .colab-df-convert {\n",
              "      background-color: #E8F0FE;\n",
              "      border: none;\n",
              "      border-radius: 50%;\n",
              "      cursor: pointer;\n",
              "      display: none;\n",
              "      fill: #1967D2;\n",
              "      height: 32px;\n",
              "      padding: 0 0 0 0;\n",
              "      width: 32px;\n",
              "    }\n",
              "\n",
              "    .colab-df-convert:hover {\n",
              "      background-color: #E2EBFA;\n",
              "      box-shadow: 0px 1px 2px rgba(60, 64, 67, 0.3), 0px 1px 3px 1px rgba(60, 64, 67, 0.15);\n",
              "      fill: #174EA6;\n",
              "    }\n",
              "\n",
              "    [theme=dark] .colab-df-convert {\n",
              "      background-color: #3B4455;\n",
              "      fill: #D2E3FC;\n",
              "    }\n",
              "\n",
              "    [theme=dark] .colab-df-convert:hover {\n",
              "      background-color: #434B5C;\n",
              "      box-shadow: 0px 1px 3px 1px rgba(0, 0, 0, 0.15);\n",
              "      filter: drop-shadow(0px 1px 2px rgba(0, 0, 0, 0.3));\n",
              "      fill: #FFFFFF;\n",
              "    }\n",
              "  </style>\n",
              "\n",
              "      <script>\n",
              "        const buttonEl =\n",
              "          document.querySelector('#df-715cdedb-ae26-4e0f-bebf-6252f55f6d3c button.colab-df-convert');\n",
              "        buttonEl.style.display =\n",
              "          google.colab.kernel.accessAllowed ? 'block' : 'none';\n",
              "\n",
              "        async function convertToInteractive(key) {\n",
              "          const element = document.querySelector('#df-715cdedb-ae26-4e0f-bebf-6252f55f6d3c');\n",
              "          const dataTable =\n",
              "            await google.colab.kernel.invokeFunction('convertToInteractive',\n",
              "                                                     [key], {});\n",
              "          if (!dataTable) return;\n",
              "\n",
              "          const docLinkHtml = 'Like what you see? Visit the ' +\n",
              "            '<a target=\"_blank\" href=https://colab.research.google.com/notebooks/data_table.ipynb>data table notebook</a>'\n",
              "            + ' to learn more about interactive tables.';\n",
              "          element.innerHTML = '';\n",
              "          dataTable['output_type'] = 'display_data';\n",
              "          await google.colab.output.renderOutput(dataTable, element);\n",
              "          const docLink = document.createElement('div');\n",
              "          docLink.innerHTML = docLinkHtml;\n",
              "          element.appendChild(docLink);\n",
              "        }\n",
              "      </script>\n",
              "    </div>\n",
              "  </div>\n",
              "  "
            ]
          },
          "metadata": {},
          "execution_count": 25
        }
      ]
    },
    {
      "cell_type": "markdown",
      "source": [
        "Normalization?"
      ],
      "metadata": {
        "id": "IXgrDe6n7iy7"
      }
    },
    {
      "cell_type": "code",
      "source": [
        "training_dataset = traffic_data.sample(frac=0.8)\n",
        "testing_dataset = traffic_data[~traffic_data.index.isin(training_dataset.index)]"
      ],
      "metadata": {
        "id": "q88PPT-0i807"
      },
      "execution_count": 19,
      "outputs": []
    },
    {
      "cell_type": "code",
      "source": [
        "input_columns = [\n",
        "    'Monday', \n",
        "    'Tuesday', \n",
        "    'Wednesday', \n",
        "    'Thursday', \n",
        "    'Friday', \n",
        "    'Saturday', \n",
        "    'Sunday', \n",
        "    'hour', \n",
        "    'minute', \n",
        "    'second'\n",
        "]"
      ],
      "metadata": {
        "id": "tu2iRxh7jAm_"
      },
      "execution_count": 20,
      "outputs": []
    },
    {
      "cell_type": "markdown",
      "source": [
        "We have to build a network with more layers, as the function that needs to fit this data is now more complex.\n",
        "\n",
        "---\n",
        "\n",
        "There is no hard and fast rule for the number of layers or neurons, but it is useful to think about the networks like this:\n",
        "\n",
        "- If you add a layer with more neurons than the previous layer or the input, you add more information into the network. More neurons create more signals for the next layer.\n",
        "\n",
        "- If you add a layer with fewer neurons than the previous layer or the input, you compress information. Now, there will be fewer signals for the next layer.\n",
        "\n",
        "- In general, you would use your intuition and experimentation (similarity to other problems) to select the number of neurons.\n",
        "\n",
        "---\n",
        "\n",
        "As a starting point, use three layers with 50 neurons in the input and hidden layer, and just one in the output layer. If you find it works, you can try to reduce that number and see what happens. If it doesn't work, you can always try to increase it.\n",
        "\n",
        "There are two more changes to make: one, to the activation function, and the second, to the dropout rate."
      ],
      "metadata": {
        "id": "VUgx2LrX7pe8"
      }
    },
    {
      "cell_type": "code",
      "source": [
        "from tensorflow.keras.layers import Dropout\n"
      ],
      "metadata": {
        "id": "kErZUJ6O-msm"
      },
      "execution_count": 21,
      "outputs": []
    },
    {
      "cell_type": "code",
      "source": [
        "traffic_model = Sequential([\n",
        "    Dense(32, input_dim=len(input_columns), activation='relu'),\n",
        "    Dropout(0.1),\n",
        "    Dense(32, activation='relu'),\n",
        "    Dropout(0.1),\n",
        "    Dense(1, activation='sigmoid'),\n",
        "])\n",
        "\n",
        "adam = Adam()\n",
        "\n",
        "traffic_model.compile(loss='binary_crossentropy', optimizer='adam', metrics=['accuracy'])\n",
        "traffic_model.summary()"
      ],
      "metadata": {
        "colab": {
          "base_uri": "https://localhost:8080/"
        },
        "id": "ni_PO6AQ-nhC",
        "outputId": "5e8f99c8-87f1-414f-95e1-9dc64aa4844c"
      },
      "execution_count": 22,
      "outputs": [
        {
          "output_type": "stream",
          "name": "stdout",
          "text": [
            "Model: \"sequential\"\n",
            "_________________________________________________________________\n",
            " Layer (type)                Output Shape              Param #   \n",
            "=================================================================\n",
            " dense (Dense)               (None, 32)                352       \n",
            "                                                                 \n",
            " dropout (Dropout)           (None, 32)                0         \n",
            "                                                                 \n",
            " dense_1 (Dense)             (None, 32)                1056      \n",
            "                                                                 \n",
            " dropout_1 (Dropout)         (None, 32)                0         \n",
            "                                                                 \n",
            " dense_2 (Dense)             (None, 1)                 33        \n",
            "                                                                 \n",
            "=================================================================\n",
            "Total params: 1,441\n",
            "Trainable params: 1,441\n",
            "Non-trainable params: 0\n",
            "_________________________________________________________________\n"
          ]
        }
      ]
    },
    {
      "cell_type": "markdown",
      "source": [
        "Remember that the activation function determines if that particular unit should activate or become insignificant.\n",
        "\n",
        "The activation function of the input and hidden layers to use a rectified linear unit (ReLU)\n",
        "\n",
        "Two possible problems :\n",
        "\n",
        "1. Gradient vanishing is a phenomenon that happens when the error that backpropagation pushes back throughout the network gets smaller and smaller as it moves from right to left (output layer towards input layer). That means that the weights of neurons in the first layers end up being updated by minimal values. When this happens, the weights take too long to get to the required value, and the network takes a lot longer to learn.\n",
        "\n",
        "2. Having too many neurons and layers make the network prone to overfitting. During weight updating, your model already penalizes weights via a method called L2 regularization. It ensures that weights never get too large.\n",
        "\n",
        "---\n",
        "\n",
        "Remember also that training a neural network consists of two steps: a forward pass and a backward pass.\n",
        "\n",
        "When you add dropout to a layer on the forward pass, a fraction of the neurons don't activate, and the next layer receives a 0 value instead of the neuron's result. On the backward pass, the same neurons that ended up not activating also don't get their weights updated. They are basically frozen in that epoch.\n",
        "\n",
        "Dropout randomly selects some neurons to skip during training to prevent overfitting.\n",
        "\n",
        "In large networks, neurons start being reliant on certain preceding neurons that end up hindering learning. By employing dropout, those preceding neurons are randomly dropped, which breaks the formed dependency.\n",
        "\n",
        "Research shows that the best dropout rate is 50%; however, you should start small as dropout can stop a network from learning. I recommend you use a 10% dropout rate here, but you should try larger numbers of neurons and higher dropouts and see how the network behaves during training:"
      ],
      "metadata": {
        "id": "sZkvmmYh8Tvz"
      }
    },
    {
      "cell_type": "code",
      "source": [
        "batch_size = 100"
      ],
      "metadata": {
        "id": "tLcI_6ZH-s-S"
      },
      "execution_count": 23,
      "outputs": []
    },
    {
      "cell_type": "code",
      "source": [
        "history_traffic_model = traffic_model.fit(\n",
        "    training_dataset[input_columns], \n",
        "    training_dataset[['c_type']], \n",
        "    epochs=30,\n",
        "    validation_split=0.1,\n",
        "    batch_size=batch_size\n",
        ")"
      ],
      "metadata": {
        "colab": {
          "base_uri": "https://localhost:8080/"
        },
        "id": "EFMFHBdb-txi",
        "outputId": "e8f33b43-decd-4dd9-8c90-d5820c303d17"
      },
      "execution_count": 24,
      "outputs": [
        {
          "output_type": "stream",
          "name": "stdout",
          "text": [
            "Epoch 1/30\n",
            "617/617 [==============================] - 3s 4ms/step - loss: 0.9406 - accuracy: 0.5588 - val_loss: 0.6463 - val_accuracy: 0.6636\n",
            "Epoch 2/30\n",
            "617/617 [==============================] - 2s 3ms/step - loss: 0.6101 - accuracy: 0.6400 - val_loss: 0.5285 - val_accuracy: 0.7065\n",
            "Epoch 3/30\n",
            "617/617 [==============================] - 2s 3ms/step - loss: 0.5473 - accuracy: 0.6748 - val_loss: 0.4969 - val_accuracy: 0.6998\n",
            "Epoch 4/30\n",
            "617/617 [==============================] - 2s 3ms/step - loss: 0.5095 - accuracy: 0.6834 - val_loss: 0.4861 - val_accuracy: 0.6961\n",
            "Epoch 5/30\n",
            "617/617 [==============================] - 2s 3ms/step - loss: 0.4932 - accuracy: 0.6929 - val_loss: 0.4830 - val_accuracy: 0.6951\n",
            "Epoch 6/30\n",
            "617/617 [==============================] - 4s 7ms/step - loss: 0.4888 - accuracy: 0.6959 - val_loss: 0.4812 - val_accuracy: 0.6981\n",
            "Epoch 7/30\n",
            "617/617 [==============================] - 2s 3ms/step - loss: 0.4840 - accuracy: 0.7055 - val_loss: 0.4701 - val_accuracy: 0.7348\n",
            "Epoch 8/30\n",
            "617/617 [==============================] - 2s 3ms/step - loss: 0.4748 - accuracy: 0.7211 - val_loss: 0.4549 - val_accuracy: 0.7529\n",
            "Epoch 9/30\n",
            "617/617 [==============================] - 2s 3ms/step - loss: 0.4500 - accuracy: 0.7497 - val_loss: 0.4081 - val_accuracy: 0.7897\n",
            "Epoch 10/30\n",
            "617/617 [==============================] - 2s 3ms/step - loss: 0.4037 - accuracy: 0.7725 - val_loss: 0.3430 - val_accuracy: 0.8019\n",
            "Epoch 11/30\n",
            "617/617 [==============================] - 2s 3ms/step - loss: 0.3537 - accuracy: 0.7944 - val_loss: 0.3052 - val_accuracy: 0.8136\n",
            "Epoch 12/30\n",
            "617/617 [==============================] - 2s 3ms/step - loss: 0.3138 - accuracy: 0.8163 - val_loss: 0.2521 - val_accuracy: 0.8552\n",
            "Epoch 13/30\n",
            "617/617 [==============================] - 2s 3ms/step - loss: 0.2867 - accuracy: 0.8409 - val_loss: 0.2482 - val_accuracy: 0.8660\n",
            "Epoch 14/30\n",
            "617/617 [==============================] - 2s 3ms/step - loss: 0.2742 - accuracy: 0.8464 - val_loss: 0.2312 - val_accuracy: 0.9016\n",
            "Epoch 15/30\n",
            "617/617 [==============================] - 2s 3ms/step - loss: 0.2494 - accuracy: 0.8517 - val_loss: 0.1971 - val_accuracy: 0.8440\n",
            "Epoch 16/30\n",
            "617/617 [==============================] - 2s 3ms/step - loss: 0.2368 - accuracy: 0.8338 - val_loss: 0.1790 - val_accuracy: 0.8602\n",
            "Epoch 17/30\n",
            "617/617 [==============================] - 2s 3ms/step - loss: 0.2227 - accuracy: 0.8820 - val_loss: 0.2140 - val_accuracy: 0.9034\n",
            "Epoch 18/30\n",
            "617/617 [==============================] - 2s 3ms/step - loss: 0.2149 - accuracy: 0.9098 - val_loss: 0.1536 - val_accuracy: 0.9977\n",
            "Epoch 19/30\n",
            "617/617 [==============================] - 2s 3ms/step - loss: 0.2210 - accuracy: 0.9174 - val_loss: 0.1648 - val_accuracy: 0.9745\n",
            "Epoch 20/30\n",
            "617/617 [==============================] - 2s 3ms/step - loss: 0.2021 - accuracy: 0.9263 - val_loss: 0.1447 - val_accuracy: 0.9888\n",
            "Epoch 21/30\n",
            "617/617 [==============================] - 2s 3ms/step - loss: 0.2003 - accuracy: 0.9305 - val_loss: 0.1404 - val_accuracy: 1.0000\n",
            "Epoch 22/30\n",
            "617/617 [==============================] - 2s 3ms/step - loss: 0.1965 - accuracy: 0.9331 - val_loss: 0.1240 - val_accuracy: 1.0000\n",
            "Epoch 23/30\n",
            "617/617 [==============================] - 2s 3ms/step - loss: 0.1874 - accuracy: 0.9377 - val_loss: 0.1163 - val_accuracy: 1.0000\n",
            "Epoch 24/30\n",
            "617/617 [==============================] - 2s 3ms/step - loss: 0.1851 - accuracy: 0.9404 - val_loss: 0.1242 - val_accuracy: 0.9999\n",
            "Epoch 25/30\n",
            "617/617 [==============================] - 2s 3ms/step - loss: 0.1814 - accuracy: 0.9431 - val_loss: 0.1104 - val_accuracy: 1.0000\n",
            "Epoch 26/30\n",
            "617/617 [==============================] - 2s 3ms/step - loss: 0.1905 - accuracy: 0.9423 - val_loss: 0.1111 - val_accuracy: 0.9999\n",
            "Epoch 27/30\n",
            "617/617 [==============================] - 2s 3ms/step - loss: 0.1715 - accuracy: 0.9492 - val_loss: 0.1015 - val_accuracy: 1.0000\n",
            "Epoch 28/30\n",
            "617/617 [==============================] - 2s 3ms/step - loss: 0.1724 - accuracy: 0.9500 - val_loss: 0.1075 - val_accuracy: 0.9958\n",
            "Epoch 29/30\n",
            "617/617 [==============================] - 3s 5ms/step - loss: 0.1688 - accuracy: 0.9507 - val_loss: 0.1254 - val_accuracy: 0.9820\n",
            "Epoch 30/30\n",
            "617/617 [==============================] - 2s 4ms/step - loss: 0.1697 - accuracy: 0.9536 - val_loss: 0.1057 - val_accuracy: 0.9975\n"
          ]
        }
      ]
    },
    {
      "cell_type": "markdown",
      "source": [
        "The batch size represents how many examples the algorithm predicts during training before the weights get updated.\n",
        "\n",
        "The parameter does have an impact on training time with larger batches making it faster to train, but large batches have also been shown to make it harder for the algorithm to generalize. A good rule of thumb is to ensure the batch fits into the memory.\n",
        "\n"
      ],
      "metadata": {
        "id": "xsSQntm5-7xe"
      }
    }
  ]
}